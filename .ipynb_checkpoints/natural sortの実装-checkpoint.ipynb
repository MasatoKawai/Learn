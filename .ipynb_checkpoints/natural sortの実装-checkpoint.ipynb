{
 "cells": [
  {
   "cell_type": "markdown",
   "id": "c5236c6b",
   "metadata": {},
   "source": [
    "## sort()では人間と同じ並び替えルールにはならない。(機械はasciiのため)"
   ]
  },
  {
   "cell_type": "code",
   "execution_count": 9,
   "id": "3130470d",
   "metadata": {},
   "outputs": [],
   "source": [
    "import re"
   ]
  },
  {
   "cell_type": "code",
   "execution_count": 1,
   "id": "b9309efc",
   "metadata": {},
   "outputs": [],
   "source": [
    "#https://stackoverflow.com/a/4836734/8245487\n",
    "def natural_sort(l): \n",
    "    convert = lambda text: int(text) if text.isdigit() else text.lower()\n",
    "    alphanum_key = lambda key: [convert(c) for c in re.split('([0-9]+)', key)]\n",
    "    return sorted(l, key=alphanum_key)"
   ]
  },
  {
   "cell_type": "code",
   "execution_count": 41,
   "id": "ae9c175d",
   "metadata": {},
   "outputs": [],
   "source": [
    "l = ['z1.txt', 'z10.txt', 'z100.txt', 'z101.txt', 'z102.txt', 'Z2.txt', 'Z20.txt', 'z200.txt', 'z3.txt']"
   ]
  },
  {
   "cell_type": "code",
   "execution_count": 12,
   "id": "884c444f",
   "metadata": {},
   "outputs": [
    {
     "data": {
      "text/plain": [
       "['Z2.txt',\n",
       " 'Z20.txt',\n",
       " 'z1.txt',\n",
       " 'z10.txt',\n",
       " 'z100.txt',\n",
       " 'z101.txt',\n",
       " 'z102.txt',\n",
       " 'z200.txt',\n",
       " 'z3.txt']"
      ]
     },
     "execution_count": 12,
     "metadata": {},
     "output_type": "execute_result"
    }
   ],
   "source": [
    "sorted(l)"
   ]
  },
  {
   "cell_type": "code",
   "execution_count": 13,
   "id": "4d1d3334",
   "metadata": {},
   "outputs": [
    {
     "data": {
      "text/plain": [
       "['z1.txt',\n",
       " 'Z2.txt',\n",
       " 'z3.txt',\n",
       " 'z10.txt',\n",
       " 'Z20.txt',\n",
       " 'z100.txt',\n",
       " 'z101.txt',\n",
       " 'z102.txt',\n",
       " 'z200.txt']"
      ]
     },
     "execution_count": 13,
     "metadata": {},
     "output_type": "execute_result"
    }
   ],
   "source": [
    "natural_sort(l)"
   ]
  },
  {
   "cell_type": "code",
   "execution_count": 24,
   "id": "7cfe6567",
   "metadata": {},
   "outputs": [
    {
     "name": "stdout",
     "output_type": "stream",
     "text": [
      "\"3\" become <class 'int'> 3 by convert()\n",
      "\n",
      "\"A\" become <class 'str'> a by convert()\n",
      "\n",
      "\"Z123.txt\" become <class 'str'> z123.txt by convert()\n"
     ]
    }
   ],
   "source": [
    "convert = lambda text: int(text) if text.isdigit() else text.lower()\n",
    "print('\"3\" become {} {} by convert()'.format(type(convert(\"3\")), convert(\"3\")))\n",
    "print('\\n\"A\" become {} {} by convert()'.format(type(convert(\"A\")), convert(\"A\")))\n",
    "print('\\n\"Z123.txt\" become {} {} by convert()'.format(type(convert(\"Z123.txt\")), convert(\"Z123.txt\")))"
   ]
  },
  {
   "cell_type": "code",
   "execution_count": 39,
   "id": "e2c853e7",
   "metadata": {},
   "outputs": [
    {
     "data": {
      "text/plain": [
       "['fsadfjah', 313, 'alsdkjf']"
      ]
     },
     "execution_count": 39,
     "metadata": {},
     "output_type": "execute_result"
    }
   ],
   "source": [
    "alphanum_key = lambda key: [convert(c) for c in re.split('([0-9]+)', key)]\n",
    "alphanum_key('fsadfjah313alsdkjf')"
   ]
  },
  {
   "cell_type": "code",
   "execution_count": 42,
   "id": "fae6c57f",
   "metadata": {},
   "outputs": [
    {
     "data": {
      "text/plain": [
       "['z1.txt',\n",
       " 'Z2.txt',\n",
       " 'z3.txt',\n",
       " 'z10.txt',\n",
       " 'Z20.txt',\n",
       " 'z100.txt',\n",
       " 'z101.txt',\n",
       " 'z102.txt',\n",
       " 'z200.txt']"
      ]
     },
     "execution_count": 42,
     "metadata": {},
     "output_type": "execute_result"
    }
   ],
   "source": [
    "# lambda関数を適用したものをキーとして並び替えているのでは？\n",
    "sorted(l, key=alphanum_key)"
   ]
  },
  {
   "cell_type": "code",
   "execution_count": 45,
   "id": "6134c50c",
   "metadata": {},
   "outputs": [
    {
     "name": "stdout",
     "output_type": "stream",
     "text": [
      "sorted(l) is [['z', 1, '.txt'], ['z', 2, '.txt'], ['z', 10, '.txt'], ['z', 100, '.txt']]\n"
     ]
    }
   ],
   "source": [
    "a = ['z', 1, '.txt']\n",
    "b = ['z', 2, '.txt']\n",
    "c = ['z', 10, '.txt']\n",
    "d = ['z', 100, '.txt']\n",
    "l = [a, b, c, d]\n",
    "print('sorted(l) is {}'.format(sorted(l)))"
   ]
  },
  {
   "cell_type": "code",
   "execution_count": null,
   "id": "6d661598",
   "metadata": {},
   "outputs": [],
   "source": []
  }
 ],
 "metadata": {
  "kernelspec": {
   "display_name": "Python 3",
   "language": "python",
   "name": "python3"
  },
  "language_info": {
   "codemirror_mode": {
    "name": "ipython",
    "version": 3
   },
   "file_extension": ".py",
   "mimetype": "text/x-python",
   "name": "python",
   "nbconvert_exporter": "python",
   "pygments_lexer": "ipython3",
   "version": "3.9.2"
  }
 },
 "nbformat": 4,
 "nbformat_minor": 5
}
